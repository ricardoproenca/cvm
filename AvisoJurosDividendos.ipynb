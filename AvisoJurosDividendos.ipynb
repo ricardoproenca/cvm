{
 "cells": [
  {
   "cell_type": "code",
   "execution_count": 1,
   "metadata": {
    "ExecuteTime": {
     "end_time": "2021-05-15T21:11:37.915112Z",
     "start_time": "2021-05-15T21:11:34.840727Z"
    }
   },
   "outputs": [],
   "source": [
    "import pandas as pd\n",
    "import requests\n",
    "import zipfile\n",
    "import io"
   ]
  },
  {
   "cell_type": "code",
   "execution_count": 2,
   "metadata": {
    "ExecuteTime": {
     "end_time": "2021-05-15T21:11:37.930418Z",
     "start_time": "2021-05-15T21:11:37.915112Z"
    }
   },
   "outputs": [],
   "source": [
    "arquivo = 'ipe_cia_aberta_2021.csv'\n",
    "link = 'http://dados.cvm.gov.br/dados/CIA_ABERTA/DOC/IPE/DADOS/ipe_cia_aberta_2021.zip'"
   ]
  },
  {
   "cell_type": "code",
   "execution_count": 3,
   "metadata": {
    "ExecuteTime": {
     "end_time": "2021-05-15T21:11:38.419533Z",
     "start_time": "2021-05-15T21:11:37.931587Z"
    }
   },
   "outputs": [],
   "source": [
    "r = requests.get(link)"
   ]
  },
  {
   "cell_type": "code",
   "execution_count": 4,
   "metadata": {
    "ExecuteTime": {
     "end_time": "2021-05-15T21:11:38.451448Z",
     "start_time": "2021-05-15T21:11:38.425518Z"
    }
   },
   "outputs": [],
   "source": [
    "zf = zipfile.ZipFile(io.BytesIO(r.content))"
   ]
  },
  {
   "cell_type": "code",
   "execution_count": 5,
   "metadata": {
    "ExecuteTime": {
     "end_time": "2021-05-15T21:11:38.467406Z",
     "start_time": "2021-05-15T21:11:38.457432Z"
    }
   },
   "outputs": [],
   "source": [
    "zf = zf.open(arquivo)"
   ]
  },
  {
   "cell_type": "code",
   "execution_count": 6,
   "metadata": {
    "ExecuteTime": {
     "end_time": "2021-05-15T21:11:38.781567Z",
     "start_time": "2021-05-15T21:11:38.472394Z"
    }
   },
   "outputs": [],
   "source": [
    "lines = zf.readlines()"
   ]
  },
  {
   "cell_type": "code",
   "execution_count": 7,
   "metadata": {
    "ExecuteTime": {
     "end_time": "2021-05-15T21:11:38.860355Z",
     "start_time": "2021-05-15T21:11:38.787560Z"
    }
   },
   "outputs": [],
   "source": [
    "lines=[i.strip().decode('ISO-8859-1') for i in lines]"
   ]
  },
  {
   "cell_type": "code",
   "execution_count": 8,
   "metadata": {
    "ExecuteTime": {
     "end_time": "2021-05-15T21:11:39.078771Z",
     "start_time": "2021-05-15T21:11:38.868335Z"
    }
   },
   "outputs": [],
   "source": [
    "lines=[i.split(';') for i in lines]"
   ]
  },
  {
   "cell_type": "code",
   "execution_count": 9,
   "metadata": {
    "ExecuteTime": {
     "end_time": "2021-05-15T21:11:39.251310Z",
     "start_time": "2021-05-15T21:11:39.086752Z"
    }
   },
   "outputs": [],
   "source": [
    "df = pd.DataFrame(lines[1:], columns=lines[0])"
   ]
  },
  {
   "cell_type": "code",
   "execution_count": 10,
   "metadata": {
    "ExecuteTime": {
     "end_time": "2021-05-15T21:11:39.440804Z",
     "start_time": "2021-05-15T21:11:39.257294Z"
    }
   },
   "outputs": [
    {
     "data": {
      "text/html": [
       "<div>\n",
       "<style scoped>\n",
       "    .dataframe tbody tr th:only-of-type {\n",
       "        vertical-align: middle;\n",
       "    }\n",
       "\n",
       "    .dataframe tbody tr th {\n",
       "        vertical-align: top;\n",
       "    }\n",
       "\n",
       "    .dataframe thead th {\n",
       "        text-align: right;\n",
       "    }\n",
       "</style>\n",
       "<table border=\"1\" class=\"dataframe\">\n",
       "  <thead>\n",
       "    <tr style=\"text-align: right;\">\n",
       "      <th></th>\n",
       "      <th>CNPJ_Companhia</th>\n",
       "      <th>Nome_Companhia</th>\n",
       "      <th>Codigo_CVM</th>\n",
       "      <th>Data_Referencia</th>\n",
       "      <th>Categoria</th>\n",
       "      <th>Tipo</th>\n",
       "      <th>Especie</th>\n",
       "      <th>Assunto</th>\n",
       "      <th>Data_Entrega</th>\n",
       "      <th>Tipo_Apresentacao</th>\n",
       "      <th>Protocolo_Entrega</th>\n",
       "      <th>Versao</th>\n",
       "      <th>Link_Download</th>\n",
       "    </tr>\n",
       "  </thead>\n",
       "  <tbody>\n",
       "    <tr>\n",
       "      <th>725</th>\n",
       "      <td>00.864.214/0001-06</td>\n",
       "      <td>ENERGISA SA</td>\n",
       "      <td>15253</td>\n",
       "      <td>2021-03-11</td>\n",
       "      <td>Aviso aos Acionistas</td>\n",
       "      <td>Outros avisos</td>\n",
       "      <td></td>\n",
       "      <td>Pagamento de dividendos</td>\n",
       "      <td>2021-03-11</td>\n",
       "      <td>AP - Apresentação</td>\n",
       "      <td>015253IPE110320210104426612-09</td>\n",
       "      <td>1</td>\n",
       "      <td>https://www.rad.cvm.gov.br/ENET/frmDownloadDoc...</td>\n",
       "    </tr>\n",
       "    <tr>\n",
       "      <th>13060</th>\n",
       "      <td>24.962.466/0001-36</td>\n",
       "      <td>RUMO MALHA NORTE S.A.</td>\n",
       "      <td>15300</td>\n",
       "      <td>2021-05-07</td>\n",
       "      <td>Aviso aos Acionistas</td>\n",
       "      <td>Outros avisos</td>\n",
       "      <td></td>\n",
       "      <td>Pagamento de dividendos</td>\n",
       "      <td>2021-05-07</td>\n",
       "      <td>AP - Apresentação</td>\n",
       "      <td>015300IPE070520210104432311-51</td>\n",
       "      <td>1</td>\n",
       "      <td>https://www.rad.cvm.gov.br/ENET/frmDownloadDoc...</td>\n",
       "    </tr>\n",
       "    <tr>\n",
       "      <th>22824</th>\n",
       "      <td>92.791.243/0001-03</td>\n",
       "      <td>IRANI PAPEL E EMBALAGEM S.A.</td>\n",
       "      <td>2429</td>\n",
       "      <td>2021-03-03</td>\n",
       "      <td>Aviso aos Acionistas</td>\n",
       "      <td>Outros avisos</td>\n",
       "      <td></td>\n",
       "      <td>Pagamento de dividendos</td>\n",
       "      <td>2021-03-03</td>\n",
       "      <td>AP - Apresentação</td>\n",
       "      <td>002429IPE030320210104425805-62</td>\n",
       "      <td>1</td>\n",
       "      <td>https://www.rad.cvm.gov.br/ENET/frmDownloadDoc...</td>\n",
       "    </tr>\n",
       "    <tr>\n",
       "      <th>22825</th>\n",
       "      <td>92.791.243/0001-03</td>\n",
       "      <td>IRANI PAPEL E EMBALAGEM S.A.</td>\n",
       "      <td>2429</td>\n",
       "      <td>2021-05-05</td>\n",
       "      <td>Aviso aos Acionistas</td>\n",
       "      <td>Outros avisos</td>\n",
       "      <td></td>\n",
       "      <td>Pagamento de dividendos</td>\n",
       "      <td>2021-05-05</td>\n",
       "      <td>AP - Apresentação</td>\n",
       "      <td>002429IPE050520210104432105-28</td>\n",
       "      <td>1</td>\n",
       "      <td>https://www.rad.cvm.gov.br/ENET/frmDownloadDoc...</td>\n",
       "    </tr>\n",
       "    <tr>\n",
       "      <th>22826</th>\n",
       "      <td>92.791.243/0001-03</td>\n",
       "      <td>IRANI PAPEL E EMBALAGEM S.A.</td>\n",
       "      <td>2429</td>\n",
       "      <td>2021-05-10</td>\n",
       "      <td>Aviso aos Acionistas</td>\n",
       "      <td>Outros avisos</td>\n",
       "      <td></td>\n",
       "      <td>Pagamento de dividendos</td>\n",
       "      <td>2021-05-10</td>\n",
       "      <td>AP - Apresentação</td>\n",
       "      <td>002429IPE100520210104432604-90</td>\n",
       "      <td>1</td>\n",
       "      <td>https://www.rad.cvm.gov.br/ENET/frmDownloadDoc...</td>\n",
       "    </tr>\n",
       "  </tbody>\n",
       "</table>\n",
       "</div>"
      ],
      "text/plain": [
       "           CNPJ_Companhia                Nome_Companhia Codigo_CVM  \\\n",
       "725    00.864.214/0001-06                   ENERGISA SA      15253   \n",
       "13060  24.962.466/0001-36         RUMO MALHA NORTE S.A.      15300   \n",
       "22824  92.791.243/0001-03  IRANI PAPEL E EMBALAGEM S.A.       2429   \n",
       "22825  92.791.243/0001-03  IRANI PAPEL E EMBALAGEM S.A.       2429   \n",
       "22826  92.791.243/0001-03  IRANI PAPEL E EMBALAGEM S.A.       2429   \n",
       "\n",
       "      Data_Referencia             Categoria           Tipo Especie  \\\n",
       "725        2021-03-11  Aviso aos Acionistas  Outros avisos           \n",
       "13060      2021-05-07  Aviso aos Acionistas  Outros avisos           \n",
       "22824      2021-03-03  Aviso aos Acionistas  Outros avisos           \n",
       "22825      2021-05-05  Aviso aos Acionistas  Outros avisos           \n",
       "22826      2021-05-10  Aviso aos Acionistas  Outros avisos           \n",
       "\n",
       "                       Assunto Data_Entrega  Tipo_Apresentacao  \\\n",
       "725    Pagamento de dividendos   2021-03-11  AP - Apresentação   \n",
       "13060  Pagamento de dividendos   2021-05-07  AP - Apresentação   \n",
       "22824  Pagamento de dividendos   2021-03-03  AP - Apresentação   \n",
       "22825  Pagamento de dividendos   2021-05-05  AP - Apresentação   \n",
       "22826  Pagamento de dividendos   2021-05-10  AP - Apresentação   \n",
       "\n",
       "                    Protocolo_Entrega Versao  \\\n",
       "725    015253IPE110320210104426612-09      1   \n",
       "13060  015300IPE070520210104432311-51      1   \n",
       "22824  002429IPE030320210104425805-62      1   \n",
       "22825  002429IPE050520210104432105-28      1   \n",
       "22826  002429IPE100520210104432604-90      1   \n",
       "\n",
       "                                           Link_Download  \n",
       "725    https://www.rad.cvm.gov.br/ENET/frmDownloadDoc...  \n",
       "13060  https://www.rad.cvm.gov.br/ENET/frmDownloadDoc...  \n",
       "22824  https://www.rad.cvm.gov.br/ENET/frmDownloadDoc...  \n",
       "22825  https://www.rad.cvm.gov.br/ENET/frmDownloadDoc...  \n",
       "22826  https://www.rad.cvm.gov.br/ENET/frmDownloadDoc...  "
      ]
     },
     "execution_count": 10,
     "metadata": {},
     "output_type": "execute_result"
    }
   ],
   "source": [
    "df[(df.Assunto =='Pagamento de dividendos')]"
   ]
  },
  {
   "cell_type": "code",
   "execution_count": null,
   "metadata": {},
   "outputs": [],
   "source": []
  }
 ],
 "metadata": {
  "kernelspec": {
   "display_name": "Python 3.7.3 64-bit ('base': conda)",
   "language": "python",
   "name": "python37364bitbasecondac3187a33bb6b4b858aad71feb598639b"
  },
  "language_info": {
   "codemirror_mode": {
    "name": "ipython",
    "version": 3
   },
   "file_extension": ".py",
   "mimetype": "text/x-python",
   "name": "python",
   "nbconvert_exporter": "python",
   "pygments_lexer": "ipython3",
   "version": "3.8.5"
  }
 },
 "nbformat": 4,
 "nbformat_minor": 4
}
